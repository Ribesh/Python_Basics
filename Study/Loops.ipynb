{
 "cells": [
  {
   "cell_type": "markdown",
   "metadata": {},
   "source": [
    "# Loops \n",
    "\n",
    "1. For Loop\n",
    "2. While loop"
   ]
  },
  {
   "cell_type": "markdown",
   "metadata": {},
   "source": [
    "### While loop"
   ]
  },
  {
   "cell_type": "code",
   "execution_count": 1,
   "metadata": {},
   "outputs": [
    {
     "name": "stdout",
     "output_type": "stream",
     "text": [
      "0\n",
      "1\n",
      "2\n",
      "3\n",
      "4\n",
      "5\n",
      "6\n",
      "7\n",
      "8\n",
      "9\n"
     ]
    }
   ],
   "source": [
    "num = 0                # initial value\n",
    "count = 1\n",
    "while num < 10:\n",
    "    #num = num +1\n",
    "    print(num)\n",
    "    num +=1                # a+=1 ===> a = a + 1\n",
    "    "
   ]
  },
  {
   "cell_type": "markdown",
   "metadata": {},
   "source": [
    "### For Loop"
   ]
  },
  {
   "cell_type": "code",
   "execution_count": 2,
   "metadata": {},
   "outputs": [
    {
     "name": "stdout",
     "output_type": "stream",
     "text": [
      "0\n",
      "1\n",
      "2\n",
      "3\n",
      "4\n",
      "5\n",
      "6\n",
      "7\n",
      "8\n",
      "9\n"
     ]
    }
   ],
   "source": [
    "for num in range(0,10):\n",
    "    print(num)"
   ]
  },
  {
   "cell_type": "code",
   "execution_count": 3,
   "metadata": {},
   "outputs": [
    {
     "name": "stdout",
     "output_type": "stream",
     "text": [
      "0\n",
      "2\n",
      "4\n",
      "6\n",
      "8\n"
     ]
    }
   ],
   "source": [
    "for num in range (0,10,2):\n",
    "    print(num)"
   ]
  },
  {
   "cell_type": "code",
   "execution_count": 4,
   "metadata": {},
   "outputs": [
    {
     "name": "stdout",
     "output_type": "stream",
     "text": [
      "10\n",
      "8\n",
      "6\n",
      "4\n",
      "2\n"
     ]
    }
   ],
   "source": [
    "for num in range (10,0,-2):\n",
    "    print(num)"
   ]
  },
  {
   "cell_type": "code",
   "execution_count": 5,
   "metadata": {},
   "outputs": [
    {
     "name": "stdout",
     "output_type": "stream",
     "text": [
      "[0, 1, 4, 9, 16, 25, 36, 49, 64, 81]\n"
     ]
    }
   ],
   "source": [
    "example = []\n",
    "for num in range (0,10):\n",
    "    example.append(num **2)\n",
    "    \n",
    "print(example)"
   ]
  },
  {
   "cell_type": "code",
   "execution_count": 6,
   "metadata": {},
   "outputs": [
    {
     "name": "stdout",
     "output_type": "stream",
     "text": [
      "[1, 2, 3, 4, 5, 6, 7, 8, 9, 10, 11, 12, 13, 14, 15, 16, 17, 18, 19, 20]\n"
     ]
    }
   ],
   "source": [
    "container = []\n",
    "count = 1\n",
    "\n",
    "while count <= 20:\n",
    "    container.append(count)\n",
    "    count += 1\n",
    "    \n",
    "print (container)"
   ]
  },
  {
   "cell_type": "code",
   "execution_count": 7,
   "metadata": {},
   "outputs": [
    {
     "name": "stdout",
     "output_type": "stream",
     "text": [
      "[11, 12, 13, 14, 15, 16, 17, 18, 19]\n"
     ]
    }
   ],
   "source": [
    "container = []\n",
    "count = 11\n",
    "\n",
    "while count > 10 and count < 20:\n",
    "    container.append(count)\n",
    "    count += 1\n",
    "    \n",
    "print (container)"
   ]
  },
  {
   "cell_type": "code",
   "execution_count": 8,
   "metadata": {},
   "outputs": [
    {
     "name": "stdout",
     "output_type": "stream",
     "text": [
      "[11, 12, 13, 14, 15, 16, 17, 18, 19]\n"
     ]
    }
   ],
   "source": [
    "container = []\n",
    "count = 11\n",
    "\n",
    "while count < 20:\n",
    "    if count > 10:\n",
    "        container.append(count)    \n",
    "    count += 1\n",
    "    \n",
    "print (container)"
   ]
  },
  {
   "cell_type": "markdown",
   "metadata": {},
   "source": [
    "Q) ODD or EVEN"
   ]
  },
  {
   "cell_type": "code",
   "execution_count": 9,
   "metadata": {},
   "outputs": [
    {
     "name": "stdout",
     "output_type": "stream",
     "text": [
      "[1, 3, 5, 7, 9, 11, 13, 15, 17, 19, 21, 23, 25, 27, 29]\n",
      "[2, 4, 6, 8, 10, 12, 14, 16, 18, 20, 22, 24, 26, 28]\n"
     ]
    }
   ],
   "source": [
    "odd = []\n",
    "even = []\n",
    "num = 1\n",
    "while num < 30:\n",
    "    if num % 2 == 0:\n",
    "        even.append(num)\n",
    "    else:\n",
    "        odd.append(num)\n",
    "    num+=1\n",
    "    \n",
    "print(odd)\n",
    "print(even)"
   ]
  },
  {
   "cell_type": "code",
   "execution_count": 10,
   "metadata": {},
   "outputs": [
    {
     "name": "stdout",
     "output_type": "stream",
     "text": [
      "[0, 1, 1, 2, 3, 5, 8, 13]\n"
     ]
    }
   ],
   "source": [
    "fibo =[]\n",
    "a,b,c = 0,1,1\n",
    "\n",
    "while b < 30:\n",
    "    fibo.append(a)\n",
    "    c = a + b\n",
    "    a = b\n",
    "    b = c \n",
    "    \n",
    "print(fibo)\n",
    "    "
   ]
  },
  {
   "cell_type": "markdown",
   "metadata": {},
   "source": [
    "### password generator & store"
   ]
  },
  {
   "cell_type": "code",
   "execution_count": 11,
   "metadata": {},
   "outputs": [
    {
     "name": "stdout",
     "output_type": "stream",
     "text": [
      "Ribesh\n",
      "Samyam\n",
      "Sunila\n",
      "Gajendra\n"
     ]
    }
   ],
   "source": [
    "users = {\"Ribesh\" : 7 , \"Samyam\": 4 , \"Sunila\" : 9 , \"Gajendra\" : 10 }\n",
    "         \n",
    "for user in users:\n",
    "         print(user)"
   ]
  },
  {
   "cell_type": "code",
   "execution_count": 12,
   "metadata": {},
   "outputs": [
    {
     "name": "stdout",
     "output_type": "stream",
     "text": [
      "7\n",
      "4\n",
      "9\n",
      "10\n"
     ]
    }
   ],
   "source": [
    "users = {\"Ribesh\" : 7 , \"Samyam\": 4 , \"Sunila\" : 9 , \"Gajendra\" : 10 }\n",
    "         \n",
    "for user in users:\n",
    "         print(users[user])"
   ]
  },
  {
   "cell_type": "code",
   "execution_count": 13,
   "metadata": {},
   "outputs": [
    {
     "name": "stdout",
     "output_type": "stream",
     "text": [
      "UserName : Ribesh Pw length : 7\n",
      "UserName : Samyam Pw length : 4\n",
      "UserName : Sunila Pw length : 9\n",
      "UserName : Gajendra Pw length : 10\n"
     ]
    }
   ],
   "source": [
    "users = {\"Ribesh\" : 7 , \"Samyam\": 4 , \"Sunila\" : 9 , \"Gajendra\" : 10 }\n",
    "for user in users:    \n",
    "        username, length = user,users[user]\n",
    "        print(\"UserName : {} Pw length : {}\".format(username,length))\n",
    "                "
   ]
  },
  {
   "cell_type": "code",
   "execution_count": 14,
   "metadata": {},
   "outputs": [
    {
     "name": "stdout",
     "output_type": "stream",
     "text": [
      "('Ribesh', 7)\n",
      "Ribesh\n",
      "7\n",
      "==========\n",
      "('Samyam', 4)\n",
      "Samyam\n",
      "4\n",
      "==========\n",
      "('Sunila', 9)\n",
      "Sunila\n",
      "9\n",
      "==========\n",
      "('Gajendra', 10)\n",
      "Gajendra\n",
      "10\n",
      "==========\n"
     ]
    }
   ],
   "source": [
    "users = {\"Ribesh\" : 7 , \"Samyam\": 4 , \"Sunila\" : 9 , \"Gajendra\" : 10 }\n",
    "         \n",
    "for user in users.items():              # for both key and value we use items\n",
    "        print(user)\n",
    "        username, length = user\n",
    "        print(username)\n",
    "        print(length)\n",
    "        print(\"=\"*10)"
   ]
  },
  {
   "cell_type": "code",
   "execution_count": 15,
   "metadata": {},
   "outputs": [
    {
     "name": "stdout",
     "output_type": "stream",
     "text": [
      "('Gajendra', 10)\n",
      "Ribesh\n",
      "7\n",
      "==========\n",
      "('Gajendra', 10)\n",
      "Samyam\n",
      "4\n",
      "==========\n",
      "('Gajendra', 10)\n",
      "Sunila\n",
      "9\n",
      "==========\n",
      "('Gajendra', 10)\n",
      "Gajendra\n",
      "10\n",
      "==========\n"
     ]
    }
   ],
   "source": [
    "users = {\"Ribesh\" : 7 , \"Samyam\": 4 , \"Sunila\" : 9 , \"Gajendra\" : 10 }\n",
    "         \n",
    "for username,length in users.items():         # same thing as above but define in loop\n",
    "        print(user)\n",
    "        print(username)\n",
    "        print(length)\n",
    "        print(\"=\"*10)"
   ]
  },
  {
   "cell_type": "code",
   "execution_count": 16,
   "metadata": {},
   "outputs": [
    {
     "name": "stdout",
     "output_type": "stream",
     "text": [
      "['P', 'P', 'P', 'P', 'P', 'P', 'P']\n",
      "['P', 'P', 'P', 'P']\n",
      "['P', 'P', 'P', 'P', 'P', 'P', 'P', 'P', 'P']\n",
      "['P', 'P', 'P', 'P', 'P', 'P', 'P', 'P', 'P', 'P']\n"
     ]
    }
   ],
   "source": [
    "users = {\"Ribesh\" : 7 , \"Samyam\": 4 , \"Sunila\" : 9 , \"Gajendra\" : 10 }\n",
    "         \n",
    "for username,length in users.items():         # same thing as above but define in loop\n",
    "        password = []\n",
    "        for i in range(0, length):\n",
    "            password.append(\"P\")\n",
    "        print(password)"
   ]
  },
  {
   "cell_type": "code",
   "execution_count": 17,
   "metadata": {},
   "outputs": [
    {
     "name": "stdout",
     "output_type": "stream",
     "text": [
      "Ribesh\n",
      "['R', 'R', 'R', 'R', 'R', 'R', 'R']\n",
      "====================\n",
      "Samyam\n",
      "['S', 'S', 'S', 'S']\n",
      "====================\n",
      "Sunila\n",
      "['S', 'S', 'S', 'S', 'S', 'S', 'S', 'S', 'S']\n",
      "====================\n",
      "Gajendra\n",
      "['G', 'G', 'G', 'G', 'G', 'G', 'G', 'G', 'G', 'G']\n",
      "====================\n"
     ]
    }
   ],
   "source": [
    "users = {\"Ribesh\" : 7 , \"Samyam\": 4 , \"Sunila\" : 9 , \"Gajendra\" : 10 }\n",
    "         \n",
    "for username,length in users.items():         \n",
    "        print(username)\n",
    "        password = []\n",
    "        for i in range(0, length):\n",
    "            password.append(username[0])         # Taking 0 index from key\n",
    "        print(password)\n",
    "        print(\"=\"*20)"
   ]
  },
  {
   "cell_type": "code",
   "execution_count": 18,
   "metadata": {},
   "outputs": [
    {
     "name": "stdout",
     "output_type": "stream",
     "text": [
      "Ribesh\n",
      "['r', 'r', 'r', 'r', 'r', 'r', 'r']\n",
      "====================\n",
      "Samyam\n",
      "['s', 's', 's', 's']\n",
      "====================\n",
      "Sunila\n",
      "['s', 's', 's', 's', 's', 's', 's', 's', 's']\n",
      "====================\n",
      "Gajendra\n",
      "['g', 'g', 'g', 'g', 'g', 'g', 'g', 'g', 'g', 'g']\n",
      "====================\n"
     ]
    }
   ],
   "source": [
    "users = {\"Ribesh\" : 7 , \"Samyam\": 4 , \"Sunila\" : 9 , \"Gajendra\" : 10 }\n",
    "         \n",
    "for username,length in users.items():         # same thing as above but define in loop\n",
    "        print(username)\n",
    "        password = []\n",
    "        for i in range(0, length):\n",
    "            password.append(username[0].lower())\n",
    "        print(password)\n",
    "        print(\"=\"*20)"
   ]
  },
  {
   "cell_type": "markdown",
   "metadata": {},
   "source": [
    "Note"
   ]
  },
  {
   "cell_type": "code",
   "execution_count": 19,
   "metadata": {},
   "outputs": [
    {
     "data": {
      "text/plain": [
       "['google', 'com']"
      ]
     },
     "execution_count": 19,
     "metadata": {},
     "output_type": "execute_result"
    }
   ],
   "source": [
    "\"google.com\".split(\".\")"
   ]
  },
  {
   "cell_type": "code",
   "execution_count": 20,
   "metadata": {},
   "outputs": [
    {
     "name": "stdout",
     "output_type": "stream",
     "text": [
      "['A', 'quick', 'brown', 'fox.']\n"
     ]
    }
   ],
   "source": [
    "sentence = \"A quick brown fox.\"   \n",
    "\n",
    "a = sentence.split(\" \")              # converting string to list\n",
    "print(a)"
   ]
  },
  {
   "cell_type": "code",
   "execution_count": 21,
   "metadata": {},
   "outputs": [
    {
     "data": {
      "text/plain": [
       "'Google---Com'"
      ]
     },
     "execution_count": 21,
     "metadata": {},
     "output_type": "execute_result"
    }
   ],
   "source": [
    "\"---\".join([\"Google\",\"Com\"])"
   ]
  },
  {
   "cell_type": "code",
   "execution_count": 22,
   "metadata": {},
   "outputs": [
    {
     "data": {
      "text/plain": [
       "'GoogleCom'"
      ]
     },
     "execution_count": 22,
     "metadata": {},
     "output_type": "execute_result"
    }
   ],
   "source": [
    "\"\".join([\"Google\",\"Com\"])         #if kept empty it will join with empty string"
   ]
  },
  {
   "cell_type": "code",
   "execution_count": 23,
   "metadata": {},
   "outputs": [
    {
     "data": {
      "text/plain": [
       "'abcd'"
      ]
     },
     "execution_count": 23,
     "metadata": {},
     "output_type": "execute_result"
    }
   ],
   "source": [
    "stri = [\"a\" , \"b\", \"c\" , \"d\"]           # converting List to String\n",
    "\"\".join(stri)"
   ]
  },
  {
   "cell_type": "code",
   "execution_count": 24,
   "metadata": {},
   "outputs": [
    {
     "name": "stdout",
     "output_type": "stream",
     "text": [
      "Ribesh\n",
      "r r r r r r r\n",
      "====================\n",
      "Samyam\n",
      "s s s s\n",
      "====================\n",
      "Sunila\n",
      "s s s s s s s s s\n",
      "====================\n",
      "Gajendra\n",
      "g g g g g g g g g g\n",
      "====================\n"
     ]
    }
   ],
   "source": [
    "users = {\"Ribesh\" : 7 , \"Samyam\": 4 , \"Sunila\" : 9 , \"Gajendra\" : 10 }\n",
    "         \n",
    "for username,length in users.items():         # same thing as above but define in loop\n",
    "        print(username)\n",
    "        password = []\n",
    "        for i in range(0, length):\n",
    "            password.append(username[0].lower())\n",
    "        print(\" \".join(password))            # joininng with spaces \n",
    "        print(\"=\"*20)"
   ]
  },
  {
   "cell_type": "code",
   "execution_count": 25,
   "metadata": {},
   "outputs": [
    {
     "name": "stdout",
     "output_type": "stream",
     "text": [
      "Ribesh\n",
      "rrrrrrr\n",
      "====================\n",
      "Samyam\n",
      "ssssssss\n",
      "====================\n",
      "Sunila\n",
      "sssssssss\n",
      "====================\n",
      "Gajendra\n",
      "gggggggggg\n",
      "====================\n"
     ]
    }
   ],
   "source": [
    "users = {\"Ribesh\" : 7 , \"Samyam\": 8 , \"Sunila\" : 9 , \"Gajendra\" : 10 }\n",
    "         \n",
    "for username,length in users.items():         # same thing as above but define in loop\n",
    "        print(username)\n",
    "        password = []\n",
    "        for i in range(0, length):\n",
    "            password.append(username[0].lower())\n",
    "        print(\"\".join(password))          # joininng with spaces \n",
    "        print(\"=\"*20)"
   ]
  },
  {
   "cell_type": "code",
   "execution_count": 26,
   "metadata": {},
   "outputs": [
    {
     "name": "stdout",
     "output_type": "stream",
     "text": [
      "{'Ribesh': 7, 'Samyam': 8, 'Sunila': 9, 'Gajendra': 10}\n",
      "{'Ribesh': 'rrrrrrr', 'Samyam': 'ssssssss', 'Sunila': 'sssssssss', 'Gajendra': 'gggggggggg'}\n"
     ]
    }
   ],
   "source": [
    "users = {\"Ribesh\" : 7 , \"Samyam\": 8 , \"Sunila\" : 9 , \"Gajendra\" : 10 }\n",
    "passwords = {}                                    # Created a new dictionary to store password\n",
    "         \n",
    "for username,length in users.items():         # same thing as above but define in loop\n",
    "        #print(username)\n",
    "        password = []\n",
    "        for i in range(0, length):\n",
    "            password.append(username[0].lower())\n",
    "        passwords[username]= \"\".join(password)          # mapping the key and values to new dictionary\n",
    "     \n",
    "              \n",
    "print(users)\n",
    "print(passwords)"
   ]
  },
  {
   "cell_type": "markdown",
   "metadata": {},
   "source": [
    "Note:"
   ]
  },
  {
   "cell_type": "code",
   "execution_count": 27,
   "metadata": {},
   "outputs": [
    {
     "data": {
      "text/plain": [
       "'E'"
      ]
     },
     "execution_count": 27,
     "metadata": {},
     "output_type": "execute_result"
    }
   ],
   "source": [
    "import random\n",
    "random.choice(\"ABCDEF\")"
   ]
  },
  {
   "cell_type": "code",
   "execution_count": 28,
   "metadata": {},
   "outputs": [
    {
     "data": {
      "text/plain": [
       "'A'"
      ]
     },
     "execution_count": 28,
     "metadata": {},
     "output_type": "execute_result"
    }
   ],
   "source": [
    "random.choice(\"ABCDEF\")"
   ]
  },
  {
   "cell_type": "code",
   "execution_count": 29,
   "metadata": {},
   "outputs": [
    {
     "data": {
      "text/plain": [
       "'abcdefghijklmnopqrstuvwxyzABCDEFGHIJKLMNOPQRSTUVWXYZ'"
      ]
     },
     "execution_count": 29,
     "metadata": {},
     "output_type": "execute_result"
    }
   ],
   "source": [
    "import string\n",
    "string.ascii_letters"
   ]
  },
  {
   "cell_type": "code",
   "execution_count": 30,
   "metadata": {},
   "outputs": [
    {
     "name": "stdout",
     "output_type": "stream",
     "text": [
      "a\n",
      "b\n",
      "c\n",
      "d\n",
      "e\n",
      "f\n",
      "g\n",
      "h\n",
      "i\n",
      "j\n",
      "k\n",
      "l\n",
      "m\n",
      "n\n",
      "o\n",
      "p\n",
      "q\n",
      "r\n",
      "s\n",
      "t\n",
      "u\n",
      "v\n",
      "w\n",
      "x\n",
      "y\n",
      "z\n",
      "A\n",
      "B\n",
      "C\n",
      "D\n",
      "E\n",
      "F\n",
      "G\n",
      "H\n",
      "I\n",
      "J\n",
      "K\n",
      "L\n",
      "M\n",
      "N\n",
      "O\n",
      "P\n",
      "Q\n",
      "R\n",
      "S\n",
      "T\n",
      "U\n",
      "V\n",
      "W\n",
      "X\n",
      "Y\n",
      "Z\n"
     ]
    }
   ],
   "source": [
    "for char in string.ascii_letters:\n",
    "    print(char)"
   ]
  },
  {
   "cell_type": "code",
   "execution_count": 31,
   "metadata": {},
   "outputs": [
    {
     "data": {
      "text/plain": [
       "'i'"
      ]
     },
     "execution_count": 31,
     "metadata": {},
     "output_type": "execute_result"
    }
   ],
   "source": [
    "random.choice(string.ascii_letters)"
   ]
  },
  {
   "cell_type": "code",
   "execution_count": 32,
   "metadata": {},
   "outputs": [
    {
     "data": {
      "text/plain": [
       "'T'"
      ]
     },
     "execution_count": 32,
     "metadata": {},
     "output_type": "execute_result"
    }
   ],
   "source": [
    "random.choice(string.ascii_letters)"
   ]
  },
  {
   "cell_type": "code",
   "execution_count": 33,
   "metadata": {},
   "outputs": [
    {
     "name": "stdout",
     "output_type": "stream",
     "text": [
      "{'Ribesh': 7, 'Samyam': 8, 'Sunila': 9, 'Gajendra': 10}\n",
      "{'Ribesh': 'pVUAAWE', 'Samyam': 'KDlbyori', 'Sunila': 'DtSTfxpkM', 'Gajendra': 'esZUzGmrnk'}\n"
     ]
    }
   ],
   "source": [
    "users = {\"Ribesh\" : 7 , \"Samyam\": 8 , \"Sunila\" : 9 , \"Gajendra\" : 10 }\n",
    "passwords = {}                                    # Created a new dictionary to store password\n",
    "         \n",
    "for username,length in users.items():         # same thing as above but define in loop\n",
    "        #print(username)\n",
    "        password = []\n",
    "        for i in range(0, length):\n",
    "            password.append(random.choice(string.ascii_letters))\n",
    "        passwords[username]= \"\".join(password)          # mapping the key and values to new dictionary\n",
    "     \n",
    "              \n",
    "print(users)\n",
    "print(passwords)"
   ]
  },
  {
   "cell_type": "markdown",
   "metadata": {},
   "source": [
    "# Foo Bar"
   ]
  },
  {
   "cell_type": "code",
   "execution_count": 34,
   "metadata": {},
   "outputs": [
    {
     "name": "stdout",
     "output_type": "stream",
     "text": [
      "2\n",
      "==========\n",
      "3\n",
      "Foo\n",
      "==========\n",
      "4\n",
      "==========\n",
      "5\n",
      "Bar\n",
      "==========\n",
      "6\n",
      "Foo\n",
      "==========\n",
      "7\n",
      "==========\n",
      "8\n",
      "==========\n",
      "9\n",
      "Foo\n",
      "==========\n",
      "10\n",
      "Bar\n",
      "==========\n",
      "11\n",
      "==========\n",
      "12\n",
      "Foo\n",
      "==========\n",
      "13\n",
      "==========\n",
      "14\n",
      "==========\n",
      "15\n",
      "Foo\n",
      "==========\n",
      "16\n",
      "==========\n",
      "17\n",
      "==========\n",
      "18\n",
      "Foo\n",
      "==========\n",
      "19\n",
      "==========\n",
      "20\n",
      "Bar\n",
      "==========\n",
      "21\n",
      "Foo\n",
      "==========\n",
      "22\n",
      "==========\n",
      "23\n",
      "==========\n",
      "24\n",
      "Foo\n",
      "==========\n",
      "25\n",
      "Bar\n",
      "==========\n",
      "26\n",
      "==========\n",
      "27\n",
      "Foo\n",
      "==========\n",
      "28\n",
      "==========\n",
      "29\n",
      "==========\n"
     ]
    }
   ],
   "source": [
    "number = 2\n",
    "\n",
    "while number < 30:\n",
    "    if number % 3 == 0:\n",
    "        print(number)\n",
    "        print(\"Foo\")\n",
    "        print(\"=\"*10)\n",
    "    elif number % 5 == 0:\n",
    "        print(number)\n",
    "        print(\"Bar\")\n",
    "        print(\"=\"*10)\n",
    "    elif number % 3 == 0 and number % 5 == 0:\n",
    "        print(number)\n",
    "        print(\"Foo Bar\")\n",
    "        print(\"=\"*10)\n",
    "    else :\n",
    "        print(number)\n",
    "        print(\"=\"*10)\n",
    "    number+=1"
   ]
  },
  {
   "cell_type": "markdown",
   "metadata": {},
   "source": [
    "# prime number"
   ]
  },
  {
   "cell_type": "code",
   "execution_count": 35,
   "metadata": {},
   "outputs": [
    {
     "name": "stdout",
     "output_type": "stream",
     "text": [
      "it is a prime\n"
     ]
    }
   ],
   "source": [
    "num = 2\n",
    "op = num -1\n",
    "while op > 1:\n",
    "    if num % op == 0:\n",
    "        print(\"Not a prime number\")\n",
    "    op-=1\n",
    "        \n",
    "print(\"it is a prime\")    \n",
    "    \n",
    "        "
   ]
  },
  {
   "cell_type": "code",
   "execution_count": 36,
   "metadata": {},
   "outputs": [
    {
     "name": "stdout",
     "output_type": "stream",
     "text": [
      "Number : 15 is not a prime\n"
     ]
    }
   ],
   "source": [
    "num = 15\n",
    "op = num -1\n",
    "is_prime = True\n",
    "\n",
    "while op > 1:\n",
    "    if num % op == 0:\n",
    "        is_prime = False\n",
    "    op-=1\n",
    "\n",
    "if is_prime:\n",
    "    print(\"Number : {} is a prime\".format(num))\n",
    "else:\n",
    "    print(\"Number : {} is not a prime\".format(num))"
   ]
  },
  {
   "cell_type": "code",
   "execution_count": 37,
   "metadata": {},
   "outputs": [
    {
     "name": "stdout",
     "output_type": "stream",
     "text": [
      "Number : 15 is not a prime\n"
     ]
    }
   ],
   "source": [
    "def is_prime(num):\n",
    "    op = num -1\n",
    "    is_prime = True\n",
    "\n",
    "    while op > 1:\n",
    "        if num % op == 0:\n",
    "            is_prime = False\n",
    "        op-=1\n",
    "\n",
    "    if is_prime:\n",
    "        print(\"Number : {} is a prime\".format(num))\n",
    "    else:\n",
    "        print(\"Number : {} is not a prime\".format(num))\n",
    "        \n",
    "is_prime(15)"
   ]
  },
  {
   "cell_type": "code",
   "execution_count": 38,
   "metadata": {},
   "outputs": [
    {
     "name": "stdout",
     "output_type": "stream",
     "text": [
      "Number : 11 is a prime\n"
     ]
    }
   ],
   "source": [
    "is_prime(11)"
   ]
  },
  {
   "cell_type": "code",
   "execution_count": 39,
   "metadata": {},
   "outputs": [],
   "source": [
    "def is_prime(num):\n",
    "    op = num -1\n",
    "    is_prime = True\n",
    "\n",
    "    while op > 1:\n",
    "        if num % op == 0:\n",
    "            is_prime = False\n",
    "        op-=1\n",
    "\n",
    "    return is_prime\n",
    "\n"
   ]
  },
  {
   "cell_type": "code",
   "execution_count": 40,
   "metadata": {},
   "outputs": [
    {
     "name": "stdout",
     "output_type": "stream",
     "text": [
      "Number : 1 is a prime\n",
      "Number : 2 is a prime\n",
      "Number : 3 is a prime\n",
      "Number : 4 is not a prime\n",
      "Number : 5 is a prime\n",
      "Number : 6 is not a prime\n",
      "Number : 7 is a prime\n",
      "Number : 8 is not a prime\n",
      "Number : 9 is not a prime\n",
      "Number : 10 is not a prime\n",
      "Number : 11 is a prime\n",
      "Number : 12 is not a prime\n",
      "Number : 13 is a prime\n",
      "Number : 14 is not a prime\n",
      "Number : 15 is not a prime\n",
      "Number : 16 is not a prime\n",
      "Number : 17 is a prime\n",
      "Number : 18 is not a prime\n",
      "Number : 19 is a prime\n",
      "Number : 20 is not a prime\n",
      "Number : 21 is not a prime\n",
      "Number : 22 is not a prime\n",
      "Number : 23 is a prime\n",
      "Number : 24 is not a prime\n",
      "Number : 25 is not a prime\n",
      "Number : 26 is not a prime\n",
      "Number : 27 is not a prime\n",
      "Number : 28 is not a prime\n",
      "Number : 29 is a prime\n",
      "Number : 30 is not a prime\n",
      "Number : 31 is a prime\n",
      "Number : 32 is not a prime\n",
      "Number : 33 is not a prime\n",
      "Number : 34 is not a prime\n",
      "Number : 35 is not a prime\n",
      "Number : 36 is not a prime\n",
      "Number : 37 is a prime\n",
      "Number : 38 is not a prime\n",
      "Number : 39 is not a prime\n",
      "Number : 40 is not a prime\n",
      "Number : 41 is a prime\n",
      "Number : 42 is not a prime\n",
      "Number : 43 is a prime\n",
      "Number : 44 is not a prime\n",
      "Number : 45 is not a prime\n",
      "Number : 46 is not a prime\n",
      "Number : 47 is a prime\n",
      "Number : 48 is not a prime\n",
      "Number : 49 is not a prime\n",
      "Number : 50 is not a prime\n",
      "Number : 51 is not a prime\n",
      "Number : 52 is not a prime\n",
      "Number : 53 is a prime\n",
      "Number : 54 is not a prime\n",
      "Number : 55 is not a prime\n",
      "Number : 56 is not a prime\n",
      "Number : 57 is not a prime\n",
      "Number : 58 is not a prime\n",
      "Number : 59 is a prime\n",
      "Number : 60 is not a prime\n",
      "Number : 61 is a prime\n",
      "Number : 62 is not a prime\n",
      "Number : 63 is not a prime\n",
      "Number : 64 is not a prime\n",
      "Number : 65 is not a prime\n",
      "Number : 66 is not a prime\n",
      "Number : 67 is a prime\n",
      "Number : 68 is not a prime\n",
      "Number : 69 is not a prime\n",
      "Number : 70 is not a prime\n",
      "Number : 71 is a prime\n",
      "Number : 72 is not a prime\n",
      "Number : 73 is a prime\n",
      "Number : 74 is not a prime\n",
      "Number : 75 is not a prime\n",
      "Number : 76 is not a prime\n",
      "Number : 77 is not a prime\n",
      "Number : 78 is not a prime\n",
      "Number : 79 is a prime\n",
      "Number : 80 is not a prime\n",
      "Number : 81 is not a prime\n",
      "Number : 82 is not a prime\n",
      "Number : 83 is a prime\n",
      "Number : 84 is not a prime\n",
      "Number : 85 is not a prime\n",
      "Number : 86 is not a prime\n",
      "Number : 87 is not a prime\n",
      "Number : 88 is not a prime\n",
      "Number : 89 is a prime\n",
      "Number : 90 is not a prime\n",
      "Number : 91 is not a prime\n",
      "Number : 92 is not a prime\n",
      "Number : 93 is not a prime\n",
      "Number : 94 is not a prime\n",
      "Number : 95 is not a prime\n",
      "Number : 96 is not a prime\n",
      "Number : 97 is a prime\n",
      "Number : 98 is not a prime\n",
      "Number : 99 is not a prime\n",
      "Number : 100 is not a prime\n",
      "Number : 101 is a prime\n",
      "Number : 102 is not a prime\n",
      "Number : 103 is a prime\n",
      "Number : 104 is not a prime\n",
      "Number : 105 is not a prime\n",
      "Number : 106 is not a prime\n",
      "Number : 107 is a prime\n",
      "Number : 108 is not a prime\n",
      "Number : 109 is a prime\n",
      "Number : 110 is not a prime\n",
      "Number : 111 is not a prime\n",
      "Number : 112 is not a prime\n",
      "Number : 113 is a prime\n",
      "Number : 114 is not a prime\n",
      "Number : 115 is not a prime\n",
      "Number : 116 is not a prime\n",
      "Number : 117 is not a prime\n",
      "Number : 118 is not a prime\n",
      "Number : 119 is not a prime\n",
      "Number : 120 is not a prime\n",
      "Number : 121 is not a prime\n",
      "Number : 122 is not a prime\n",
      "Number : 123 is not a prime\n",
      "Number : 124 is not a prime\n",
      "Number : 125 is not a prime\n",
      "Number : 126 is not a prime\n",
      "Number : 127 is a prime\n",
      "Number : 128 is not a prime\n",
      "Number : 129 is not a prime\n",
      "Number : 130 is not a prime\n",
      "Number : 131 is a prime\n",
      "Number : 132 is not a prime\n",
      "Number : 133 is not a prime\n",
      "Number : 134 is not a prime\n",
      "Number : 135 is not a prime\n",
      "Number : 136 is not a prime\n",
      "Number : 137 is a prime\n",
      "Number : 138 is not a prime\n",
      "Number : 139 is a prime\n",
      "Number : 140 is not a prime\n",
      "Number : 141 is not a prime\n",
      "Number : 142 is not a prime\n",
      "Number : 143 is not a prime\n",
      "Number : 144 is not a prime\n",
      "Number : 145 is not a prime\n",
      "Number : 146 is not a prime\n",
      "Number : 147 is not a prime\n",
      "Number : 148 is not a prime\n",
      "Number : 149 is a prime\n",
      "Number : 150 is not a prime\n",
      "Number : 151 is a prime\n",
      "Number : 152 is not a prime\n",
      "Number : 153 is not a prime\n",
      "Number : 154 is not a prime\n",
      "Number : 155 is not a prime\n",
      "Number : 156 is not a prime\n",
      "Number : 157 is a prime\n",
      "Number : 158 is not a prime\n",
      "Number : 159 is not a prime\n",
      "Number : 160 is not a prime\n",
      "Number : 161 is not a prime\n",
      "Number : 162 is not a prime\n",
      "Number : 163 is a prime\n",
      "Number : 164 is not a prime\n",
      "Number : 165 is not a prime\n",
      "Number : 166 is not a prime\n",
      "Number : 167 is a prime\n",
      "Number : 168 is not a prime\n",
      "Number : 169 is not a prime\n",
      "Number : 170 is not a prime\n",
      "Number : 171 is not a prime\n",
      "Number : 172 is not a prime\n",
      "Number : 173 is a prime\n",
      "Number : 174 is not a prime\n",
      "Number : 175 is not a prime\n",
      "Number : 176 is not a prime\n",
      "Number : 177 is not a prime\n",
      "Number : 178 is not a prime\n",
      "Number : 179 is a prime\n",
      "Number : 180 is not a prime\n",
      "Number : 181 is a prime\n",
      "Number : 182 is not a prime\n",
      "Number : 183 is not a prime\n",
      "Number : 184 is not a prime\n",
      "Number : 185 is not a prime\n",
      "Number : 186 is not a prime\n",
      "Number : 187 is not a prime\n",
      "Number : 188 is not a prime\n",
      "Number : 189 is not a prime\n",
      "Number : 190 is not a prime\n",
      "Number : 191 is a prime\n",
      "Number : 192 is not a prime\n",
      "Number : 193 is a prime\n",
      "Number : 194 is not a prime\n",
      "Number : 195 is not a prime\n",
      "Number : 196 is not a prime\n",
      "Number : 197 is a prime\n",
      "Number : 198 is not a prime\n",
      "Number : 199 is a prime\n",
      "Number : 200 is not a prime\n",
      "Number : 201 is not a prime\n",
      "Number : 202 is not a prime\n",
      "Number : 203 is not a prime\n",
      "Number : 204 is not a prime\n",
      "Number : 205 is not a prime\n",
      "Number : 206 is not a prime\n",
      "Number : 207 is not a prime\n",
      "Number : 208 is not a prime\n",
      "Number : 209 is not a prime\n",
      "Number : 210 is not a prime\n",
      "Number : 211 is a prime\n",
      "Number : 212 is not a prime\n",
      "Number : 213 is not a prime\n",
      "Number : 214 is not a prime\n",
      "Number : 215 is not a prime\n",
      "Number : 216 is not a prime\n",
      "Number : 217 is not a prime\n",
      "Number : 218 is not a prime\n",
      "Number : 219 is not a prime\n",
      "Number : 220 is not a prime\n",
      "Number : 221 is not a prime\n",
      "Number : 222 is not a prime\n",
      "Number : 223 is a prime\n",
      "Number : 224 is not a prime\n",
      "Number : 225 is not a prime\n",
      "Number : 226 is not a prime\n",
      "Number : 227 is a prime\n",
      "Number : 228 is not a prime\n",
      "Number : 229 is a prime\n",
      "Number : 230 is not a prime\n",
      "Number : 231 is not a prime\n",
      "Number : 232 is not a prime\n",
      "Number : 233 is a prime\n",
      "Number : 234 is not a prime\n",
      "Number : 235 is not a prime\n",
      "Number : 236 is not a prime\n",
      "Number : 237 is not a prime\n",
      "Number : 238 is not a prime\n",
      "Number : 239 is a prime\n",
      "Number : 240 is not a prime\n",
      "Number : 241 is a prime\n",
      "Number : 242 is not a prime\n",
      "Number : 243 is not a prime\n",
      "Number : 244 is not a prime\n",
      "Number : 245 is not a prime\n",
      "Number : 246 is not a prime\n",
      "Number : 247 is not a prime\n",
      "Number : 248 is not a prime\n",
      "Number : 249 is not a prime\n",
      "Number : 250 is not a prime\n",
      "Number : 251 is a prime\n",
      "Number : 252 is not a prime\n",
      "Number : 253 is not a prime\n",
      "Number : 254 is not a prime\n",
      "Number : 255 is not a prime\n",
      "Number : 256 is not a prime\n",
      "Number : 257 is a prime\n",
      "Number : 258 is not a prime\n",
      "Number : 259 is not a prime\n",
      "Number : 260 is not a prime\n",
      "Number : 261 is not a prime\n",
      "Number : 262 is not a prime\n",
      "Number : 263 is a prime\n",
      "Number : 264 is not a prime\n",
      "Number : 265 is not a prime\n",
      "Number : 266 is not a prime\n",
      "Number : 267 is not a prime\n",
      "Number : 268 is not a prime\n",
      "Number : 269 is a prime\n",
      "Number : 270 is not a prime\n",
      "Number : 271 is a prime\n",
      "Number : 272 is not a prime\n",
      "Number : 273 is not a prime\n",
      "Number : 274 is not a prime\n",
      "Number : 275 is not a prime\n",
      "Number : 276 is not a prime\n",
      "Number : 277 is a prime\n",
      "Number : 278 is not a prime\n",
      "Number : 279 is not a prime\n",
      "Number : 280 is not a prime\n",
      "Number : 281 is a prime\n",
      "Number : 282 is not a prime\n",
      "Number : 283 is a prime\n",
      "Number : 284 is not a prime\n",
      "Number : 285 is not a prime\n",
      "Number : 286 is not a prime\n",
      "Number : 287 is not a prime\n",
      "Number : 288 is not a prime\n",
      "Number : 289 is not a prime\n",
      "Number : 290 is not a prime\n",
      "Number : 291 is not a prime\n",
      "Number : 292 is not a prime\n",
      "Number : 293 is a prime\n",
      "Number : 294 is not a prime\n",
      "Number : 295 is not a prime\n",
      "Number : 296 is not a prime\n",
      "Number : 297 is not a prime\n",
      "Number : 298 is not a prime\n",
      "Number : 299 is not a prime\n",
      "Number : 300 is not a prime\n",
      "Number : 301 is not a prime\n",
      "Number : 302 is not a prime\n",
      "Number : 303 is not a prime\n",
      "Number : 304 is not a prime\n",
      "Number : 305 is not a prime\n",
      "Number : 306 is not a prime\n",
      "Number : 307 is a prime\n",
      "Number : 308 is not a prime\n",
      "Number : 309 is not a prime\n",
      "Number : 310 is not a prime\n",
      "Number : 311 is a prime\n",
      "Number : 312 is not a prime\n",
      "Number : 313 is a prime\n",
      "Number : 314 is not a prime\n",
      "Number : 315 is not a prime\n",
      "Number : 316 is not a prime\n",
      "Number : 317 is a prime\n",
      "Number : 318 is not a prime\n",
      "Number : 319 is not a prime\n",
      "Number : 320 is not a prime\n",
      "Number : 321 is not a prime\n",
      "Number : 322 is not a prime\n",
      "Number : 323 is not a prime\n",
      "Number : 324 is not a prime\n",
      "Number : 325 is not a prime\n",
      "Number : 326 is not a prime\n",
      "Number : 327 is not a prime\n",
      "Number : 328 is not a prime\n",
      "Number : 329 is not a prime\n",
      "Number : 330 is not a prime\n",
      "Number : 331 is a prime\n",
      "Number : 332 is not a prime\n",
      "Number : 333 is not a prime\n",
      "Number : 334 is not a prime\n",
      "Number : 335 is not a prime\n",
      "Number : 336 is not a prime\n",
      "Number : 337 is a prime\n",
      "Number : 338 is not a prime\n",
      "Number : 339 is not a prime\n",
      "Number : 340 is not a prime\n",
      "Number : 341 is not a prime\n",
      "Number : 342 is not a prime\n",
      "Number : 343 is not a prime\n",
      "Number : 344 is not a prime\n",
      "Number : 345 is not a prime\n",
      "Number : 346 is not a prime\n",
      "Number : 347 is a prime\n",
      "Number : 348 is not a prime\n",
      "Number : 349 is a prime\n",
      "Number : 350 is not a prime\n",
      "Number : 351 is not a prime\n",
      "Number : 352 is not a prime\n",
      "Number : 353 is a prime\n",
      "Number : 354 is not a prime\n",
      "Number : 355 is not a prime\n",
      "Number : 356 is not a prime\n",
      "Number : 357 is not a prime\n",
      "Number : 358 is not a prime\n",
      "Number : 359 is a prime\n",
      "Number : 360 is not a prime\n",
      "Number : 361 is not a prime\n",
      "Number : 362 is not a prime\n",
      "Number : 363 is not a prime\n",
      "Number : 364 is not a prime\n",
      "Number : 365 is not a prime\n",
      "Number : 366 is not a prime\n",
      "Number : 367 is a prime\n",
      "Number : 368 is not a prime\n",
      "Number : 369 is not a prime\n",
      "Number : 370 is not a prime\n",
      "Number : 371 is not a prime\n",
      "Number : 372 is not a prime\n",
      "Number : 373 is a prime\n",
      "Number : 374 is not a prime\n",
      "Number : 375 is not a prime\n",
      "Number : 376 is not a prime\n",
      "Number : 377 is not a prime\n",
      "Number : 378 is not a prime\n",
      "Number : 379 is a prime\n",
      "Number : 380 is not a prime\n",
      "Number : 381 is not a prime\n",
      "Number : 382 is not a prime\n",
      "Number : 383 is a prime\n",
      "Number : 384 is not a prime\n",
      "Number : 385 is not a prime\n",
      "Number : 386 is not a prime\n",
      "Number : 387 is not a prime\n",
      "Number : 388 is not a prime\n",
      "Number : 389 is a prime\n",
      "Number : 390 is not a prime\n",
      "Number : 391 is not a prime\n",
      "Number : 392 is not a prime\n",
      "Number : 393 is not a prime\n",
      "Number : 394 is not a prime\n",
      "Number : 395 is not a prime\n",
      "Number : 396 is not a prime\n",
      "Number : 397 is a prime\n",
      "Number : 398 is not a prime\n",
      "Number : 399 is not a prime\n",
      "Number : 400 is not a prime\n",
      "Number : 401 is a prime\n",
      "Number : 402 is not a prime\n",
      "Number : 403 is not a prime\n",
      "Number : 404 is not a prime\n",
      "Number : 405 is not a prime\n",
      "Number : 406 is not a prime\n",
      "Number : 407 is not a prime\n",
      "Number : 408 is not a prime\n",
      "Number : 409 is a prime\n",
      "Number : 410 is not a prime\n",
      "Number : 411 is not a prime\n",
      "Number : 412 is not a prime\n",
      "Number : 413 is not a prime\n",
      "Number : 414 is not a prime\n",
      "Number : 415 is not a prime\n",
      "Number : 416 is not a prime\n",
      "Number : 417 is not a prime\n",
      "Number : 418 is not a prime\n",
      "Number : 419 is a prime\n",
      "Number : 420 is not a prime\n",
      "Number : 421 is a prime\n",
      "Number : 422 is not a prime\n",
      "Number : 423 is not a prime\n",
      "Number : 424 is not a prime\n",
      "Number : 425 is not a prime\n",
      "Number : 426 is not a prime\n",
      "Number : 427 is not a prime\n",
      "Number : 428 is not a prime\n",
      "Number : 429 is not a prime\n",
      "Number : 430 is not a prime\n",
      "Number : 431 is a prime\n",
      "Number : 432 is not a prime\n",
      "Number : 433 is a prime\n",
      "Number : 434 is not a prime\n",
      "Number : 435 is not a prime\n",
      "Number : 436 is not a prime\n",
      "Number : 437 is not a prime\n",
      "Number : 438 is not a prime\n",
      "Number : 439 is a prime\n",
      "Number : 440 is not a prime\n",
      "Number : 441 is not a prime\n",
      "Number : 442 is not a prime\n",
      "Number : 443 is a prime\n",
      "Number : 444 is not a prime\n",
      "Number : 445 is not a prime\n",
      "Number : 446 is not a prime\n",
      "Number : 447 is not a prime\n",
      "Number : 448 is not a prime\n",
      "Number : 449 is a prime\n",
      "Number : 450 is not a prime\n",
      "Number : 451 is not a prime\n",
      "Number : 452 is not a prime\n",
      "Number : 453 is not a prime\n",
      "Number : 454 is not a prime\n",
      "Number : 455 is not a prime\n",
      "Number : 456 is not a prime\n",
      "Number : 457 is a prime\n",
      "Number : 458 is not a prime\n",
      "Number : 459 is not a prime\n",
      "Number : 460 is not a prime\n",
      "Number : 461 is a prime\n",
      "Number : 462 is not a prime\n",
      "Number : 463 is a prime\n",
      "Number : 464 is not a prime\n",
      "Number : 465 is not a prime\n",
      "Number : 466 is not a prime\n",
      "Number : 467 is a prime\n",
      "Number : 468 is not a prime\n",
      "Number : 469 is not a prime\n",
      "Number : 470 is not a prime\n",
      "Number : 471 is not a prime\n",
      "Number : 472 is not a prime\n",
      "Number : 473 is not a prime\n",
      "Number : 474 is not a prime\n",
      "Number : 475 is not a prime\n",
      "Number : 476 is not a prime\n",
      "Number : 477 is not a prime\n",
      "Number : 478 is not a prime\n",
      "Number : 479 is a prime\n",
      "Number : 480 is not a prime\n",
      "Number : 481 is not a prime\n",
      "Number : 482 is not a prime\n",
      "Number : 483 is not a prime\n",
      "Number : 484 is not a prime\n",
      "Number : 485 is not a prime\n",
      "Number : 486 is not a prime\n",
      "Number : 487 is a prime\n",
      "Number : 488 is not a prime\n",
      "Number : 489 is not a prime\n",
      "Number : 490 is not a prime\n",
      "Number : 491 is a prime\n",
      "Number : 492 is not a prime\n",
      "Number : 493 is not a prime\n",
      "Number : 494 is not a prime\n",
      "Number : 495 is not a prime\n",
      "Number : 496 is not a prime\n",
      "Number : 497 is not a prime\n",
      "Number : 498 is not a prime\n",
      "Number : 499 is a prime\n",
      "Number : 500 is not a prime\n",
      "Number : 501 is not a prime\n",
      "Number : 502 is not a prime\n",
      "Number : 503 is a prime\n",
      "Number : 504 is not a prime\n",
      "Number : 505 is not a prime\n",
      "Number : 506 is not a prime\n",
      "Number : 507 is not a prime\n",
      "Number : 508 is not a prime\n",
      "Number : 509 is a prime\n",
      "Number : 510 is not a prime\n",
      "Number : 511 is not a prime\n",
      "Number : 512 is not a prime\n",
      "Number : 513 is not a prime\n",
      "Number : 514 is not a prime\n",
      "Number : 515 is not a prime\n",
      "Number : 516 is not a prime\n",
      "Number : 517 is not a prime\n",
      "Number : 518 is not a prime\n",
      "Number : 519 is not a prime\n",
      "Number : 520 is not a prime\n",
      "Number : 521 is a prime\n",
      "Number : 522 is not a prime\n",
      "Number : 523 is a prime\n",
      "Number : 524 is not a prime\n",
      "Number : 525 is not a prime\n",
      "Number : 526 is not a prime\n",
      "Number : 527 is not a prime\n",
      "Number : 528 is not a prime\n",
      "Number : 529 is not a prime\n",
      "Number : 530 is not a prime\n",
      "Number : 531 is not a prime\n",
      "Number : 532 is not a prime\n",
      "Number : 533 is not a prime\n",
      "Number : 534 is not a prime\n",
      "Number : 535 is not a prime\n",
      "Number : 536 is not a prime\n",
      "Number : 537 is not a prime\n",
      "Number : 538 is not a prime\n",
      "Number : 539 is not a prime\n",
      "Number : 540 is not a prime\n",
      "Number : 541 is a prime\n",
      "Number : 542 is not a prime\n",
      "Number : 543 is not a prime\n",
      "Number : 544 is not a prime\n",
      "Number : 545 is not a prime\n",
      "Number : 546 is not a prime\n",
      "Number : 547 is a prime\n",
      "Number : 548 is not a prime\n",
      "Number : 549 is not a prime\n",
      "Number : 550 is not a prime\n",
      "Number : 551 is not a prime\n",
      "Number : 552 is not a prime\n",
      "Number : 553 is not a prime\n",
      "Number : 554 is not a prime\n",
      "Number : 555 is not a prime\n",
      "Number : 556 is not a prime\n",
      "Number : 557 is a prime\n",
      "Number : 558 is not a prime\n",
      "Number : 559 is not a prime\n",
      "Number : 560 is not a prime\n",
      "Number : 561 is not a prime\n",
      "Number : 562 is not a prime\n",
      "Number : 563 is a prime\n",
      "Number : 564 is not a prime\n",
      "Number : 565 is not a prime\n",
      "Number : 566 is not a prime\n",
      "Number : 567 is not a prime\n",
      "Number : 568 is not a prime\n",
      "Number : 569 is a prime\n",
      "Number : 570 is not a prime\n",
      "Number : 571 is a prime\n",
      "Number : 572 is not a prime\n",
      "Number : 573 is not a prime\n",
      "Number : 574 is not a prime\n",
      "Number : 575 is not a prime\n",
      "Number : 576 is not a prime\n",
      "Number : 577 is a prime\n",
      "Number : 578 is not a prime\n",
      "Number : 579 is not a prime\n",
      "Number : 580 is not a prime\n",
      "Number : 581 is not a prime\n",
      "Number : 582 is not a prime\n",
      "Number : 583 is not a prime\n",
      "Number : 584 is not a prime\n",
      "Number : 585 is not a prime\n",
      "Number : 586 is not a prime\n",
      "Number : 587 is a prime\n",
      "Number : 588 is not a prime\n",
      "Number : 589 is not a prime\n",
      "Number : 590 is not a prime\n",
      "Number : 591 is not a prime\n",
      "Number : 592 is not a prime\n",
      "Number : 593 is a prime\n",
      "Number : 594 is not a prime\n",
      "Number : 595 is not a prime\n",
      "Number : 596 is not a prime\n",
      "Number : 597 is not a prime\n",
      "Number : 598 is not a prime\n",
      "Number : 599 is a prime\n",
      "Number : 600 is not a prime\n",
      "Number : 601 is a prime\n",
      "Number : 602 is not a prime\n",
      "Number : 603 is not a prime\n",
      "Number : 604 is not a prime\n",
      "Number : 605 is not a prime\n",
      "Number : 606 is not a prime\n",
      "Number : 607 is a prime\n",
      "Number : 608 is not a prime\n",
      "Number : 609 is not a prime\n",
      "Number : 610 is not a prime\n",
      "Number : 611 is not a prime\n",
      "Number : 612 is not a prime\n",
      "Number : 613 is a prime\n",
      "Number : 614 is not a prime\n",
      "Number : 615 is not a prime\n",
      "Number : 616 is not a prime\n",
      "Number : 617 is a prime\n",
      "Number : 618 is not a prime\n",
      "Number : 619 is a prime\n",
      "Number : 620 is not a prime\n",
      "Number : 621 is not a prime\n",
      "Number : 622 is not a prime\n",
      "Number : 623 is not a prime\n",
      "Number : 624 is not a prime\n",
      "Number : 625 is not a prime\n",
      "Number : 626 is not a prime\n",
      "Number : 627 is not a prime\n",
      "Number : 628 is not a prime\n",
      "Number : 629 is not a prime\n",
      "Number : 630 is not a prime\n",
      "Number : 631 is a prime\n",
      "Number : 632 is not a prime\n",
      "Number : 633 is not a prime\n",
      "Number : 634 is not a prime\n",
      "Number : 635 is not a prime\n",
      "Number : 636 is not a prime\n",
      "Number : 637 is not a prime\n",
      "Number : 638 is not a prime\n",
      "Number : 639 is not a prime\n",
      "Number : 640 is not a prime\n",
      "Number : 641 is a prime\n",
      "Number : 642 is not a prime\n",
      "Number : 643 is a prime\n",
      "Number : 644 is not a prime\n",
      "Number : 645 is not a prime\n",
      "Number : 646 is not a prime\n",
      "Number : 647 is a prime\n",
      "Number : 648 is not a prime\n",
      "Number : 649 is not a prime\n",
      "Number : 650 is not a prime\n",
      "Number : 651 is not a prime\n",
      "Number : 652 is not a prime\n",
      "Number : 653 is a prime\n",
      "Number : 654 is not a prime\n",
      "Number : 655 is not a prime\n",
      "Number : 656 is not a prime\n",
      "Number : 657 is not a prime\n",
      "Number : 658 is not a prime\n",
      "Number : 659 is a prime\n",
      "Number : 660 is not a prime\n",
      "Number : 661 is a prime\n",
      "Number : 662 is not a prime\n",
      "Number : 663 is not a prime\n",
      "Number : 664 is not a prime\n",
      "Number : 665 is not a prime\n",
      "Number : 666 is not a prime\n",
      "Number : 667 is not a prime\n",
      "Number : 668 is not a prime\n",
      "Number : 669 is not a prime\n",
      "Number : 670 is not a prime\n",
      "Number : 671 is not a prime\n",
      "Number : 672 is not a prime\n",
      "Number : 673 is a prime\n",
      "Number : 674 is not a prime\n",
      "Number : 675 is not a prime\n",
      "Number : 676 is not a prime\n",
      "Number : 677 is a prime\n",
      "Number : 678 is not a prime\n",
      "Number : 679 is not a prime\n",
      "Number : 680 is not a prime\n",
      "Number : 681 is not a prime\n",
      "Number : 682 is not a prime\n",
      "Number : 683 is a prime\n",
      "Number : 684 is not a prime\n",
      "Number : 685 is not a prime\n",
      "Number : 686 is not a prime\n",
      "Number : 687 is not a prime\n",
      "Number : 688 is not a prime\n",
      "Number : 689 is not a prime\n",
      "Number : 690 is not a prime\n",
      "Number : 691 is a prime\n",
      "Number : 692 is not a prime\n"
     ]
    },
    {
     "name": "stdout",
     "output_type": "stream",
     "text": [
      "Number : 693 is not a prime\n",
      "Number : 694 is not a prime\n",
      "Number : 695 is not a prime\n",
      "Number : 696 is not a prime\n",
      "Number : 697 is not a prime\n",
      "Number : 698 is not a prime\n",
      "Number : 699 is not a prime\n",
      "Number : 700 is not a prime\n",
      "Number : 701 is a prime\n",
      "Number : 702 is not a prime\n",
      "Number : 703 is not a prime\n",
      "Number : 704 is not a prime\n",
      "Number : 705 is not a prime\n",
      "Number : 706 is not a prime\n",
      "Number : 707 is not a prime\n",
      "Number : 708 is not a prime\n",
      "Number : 709 is a prime\n",
      "Number : 710 is not a prime\n",
      "Number : 711 is not a prime\n",
      "Number : 712 is not a prime\n",
      "Number : 713 is not a prime\n",
      "Number : 714 is not a prime\n",
      "Number : 715 is not a prime\n",
      "Number : 716 is not a prime\n",
      "Number : 717 is not a prime\n",
      "Number : 718 is not a prime\n",
      "Number : 719 is a prime\n",
      "Number : 720 is not a prime\n",
      "Number : 721 is not a prime\n",
      "Number : 722 is not a prime\n",
      "Number : 723 is not a prime\n",
      "Number : 724 is not a prime\n",
      "Number : 725 is not a prime\n",
      "Number : 726 is not a prime\n",
      "Number : 727 is a prime\n",
      "Number : 728 is not a prime\n",
      "Number : 729 is not a prime\n",
      "Number : 730 is not a prime\n",
      "Number : 731 is not a prime\n",
      "Number : 732 is not a prime\n",
      "Number : 733 is a prime\n",
      "Number : 734 is not a prime\n",
      "Number : 735 is not a prime\n",
      "Number : 736 is not a prime\n",
      "Number : 737 is not a prime\n",
      "Number : 738 is not a prime\n",
      "Number : 739 is a prime\n",
      "Number : 740 is not a prime\n",
      "Number : 741 is not a prime\n",
      "Number : 742 is not a prime\n",
      "Number : 743 is a prime\n",
      "Number : 744 is not a prime\n",
      "Number : 745 is not a prime\n",
      "Number : 746 is not a prime\n",
      "Number : 747 is not a prime\n",
      "Number : 748 is not a prime\n",
      "Number : 749 is not a prime\n",
      "Number : 750 is not a prime\n",
      "Number : 751 is a prime\n",
      "Number : 752 is not a prime\n",
      "Number : 753 is not a prime\n",
      "Number : 754 is not a prime\n",
      "Number : 755 is not a prime\n",
      "Number : 756 is not a prime\n",
      "Number : 757 is a prime\n",
      "Number : 758 is not a prime\n",
      "Number : 759 is not a prime\n",
      "Number : 760 is not a prime\n",
      "Number : 761 is a prime\n",
      "Number : 762 is not a prime\n",
      "Number : 763 is not a prime\n",
      "Number : 764 is not a prime\n",
      "Number : 765 is not a prime\n",
      "Number : 766 is not a prime\n",
      "Number : 767 is not a prime\n",
      "Number : 768 is not a prime\n",
      "Number : 769 is a prime\n",
      "Number : 770 is not a prime\n",
      "Number : 771 is not a prime\n",
      "Number : 772 is not a prime\n",
      "Number : 773 is a prime\n",
      "Number : 774 is not a prime\n",
      "Number : 775 is not a prime\n",
      "Number : 776 is not a prime\n",
      "Number : 777 is not a prime\n",
      "Number : 778 is not a prime\n",
      "Number : 779 is not a prime\n",
      "Number : 780 is not a prime\n",
      "Number : 781 is not a prime\n",
      "Number : 782 is not a prime\n",
      "Number : 783 is not a prime\n",
      "Number : 784 is not a prime\n",
      "Number : 785 is not a prime\n",
      "Number : 786 is not a prime\n",
      "Number : 787 is a prime\n",
      "Number : 788 is not a prime\n",
      "Number : 789 is not a prime\n",
      "Number : 790 is not a prime\n",
      "Number : 791 is not a prime\n",
      "Number : 792 is not a prime\n",
      "Number : 793 is not a prime\n",
      "Number : 794 is not a prime\n",
      "Number : 795 is not a prime\n",
      "Number : 796 is not a prime\n",
      "Number : 797 is a prime\n",
      "Number : 798 is not a prime\n",
      "Number : 799 is not a prime\n",
      "Number : 800 is not a prime\n",
      "Number : 801 is not a prime\n",
      "Number : 802 is not a prime\n",
      "Number : 803 is not a prime\n",
      "Number : 804 is not a prime\n",
      "Number : 805 is not a prime\n",
      "Number : 806 is not a prime\n",
      "Number : 807 is not a prime\n",
      "Number : 808 is not a prime\n",
      "Number : 809 is a prime\n",
      "Number : 810 is not a prime\n",
      "Number : 811 is a prime\n",
      "Number : 812 is not a prime\n",
      "Number : 813 is not a prime\n",
      "Number : 814 is not a prime\n",
      "Number : 815 is not a prime\n",
      "Number : 816 is not a prime\n",
      "Number : 817 is not a prime\n",
      "Number : 818 is not a prime\n",
      "Number : 819 is not a prime\n",
      "Number : 820 is not a prime\n",
      "Number : 821 is a prime\n",
      "Number : 822 is not a prime\n",
      "Number : 823 is a prime\n",
      "Number : 824 is not a prime\n",
      "Number : 825 is not a prime\n",
      "Number : 826 is not a prime\n",
      "Number : 827 is a prime\n",
      "Number : 828 is not a prime\n",
      "Number : 829 is a prime\n",
      "Number : 830 is not a prime\n",
      "Number : 831 is not a prime\n",
      "Number : 832 is not a prime\n",
      "Number : 833 is not a prime\n",
      "Number : 834 is not a prime\n",
      "Number : 835 is not a prime\n",
      "Number : 836 is not a prime\n",
      "Number : 837 is not a prime\n",
      "Number : 838 is not a prime\n",
      "Number : 839 is a prime\n",
      "Number : 840 is not a prime\n",
      "Number : 841 is not a prime\n",
      "Number : 842 is not a prime\n",
      "Number : 843 is not a prime\n",
      "Number : 844 is not a prime\n",
      "Number : 845 is not a prime\n",
      "Number : 846 is not a prime\n",
      "Number : 847 is not a prime\n",
      "Number : 848 is not a prime\n",
      "Number : 849 is not a prime\n",
      "Number : 850 is not a prime\n",
      "Number : 851 is not a prime\n",
      "Number : 852 is not a prime\n",
      "Number : 853 is a prime\n",
      "Number : 854 is not a prime\n",
      "Number : 855 is not a prime\n",
      "Number : 856 is not a prime\n",
      "Number : 857 is a prime\n",
      "Number : 858 is not a prime\n",
      "Number : 859 is a prime\n",
      "Number : 860 is not a prime\n",
      "Number : 861 is not a prime\n",
      "Number : 862 is not a prime\n",
      "Number : 863 is a prime\n",
      "Number : 864 is not a prime\n",
      "Number : 865 is not a prime\n",
      "Number : 866 is not a prime\n",
      "Number : 867 is not a prime\n",
      "Number : 868 is not a prime\n",
      "Number : 869 is not a prime\n",
      "Number : 870 is not a prime\n",
      "Number : 871 is not a prime\n",
      "Number : 872 is not a prime\n",
      "Number : 873 is not a prime\n",
      "Number : 874 is not a prime\n",
      "Number : 875 is not a prime\n",
      "Number : 876 is not a prime\n",
      "Number : 877 is a prime\n",
      "Number : 878 is not a prime\n",
      "Number : 879 is not a prime\n",
      "Number : 880 is not a prime\n",
      "Number : 881 is a prime\n",
      "Number : 882 is not a prime\n",
      "Number : 883 is a prime\n",
      "Number : 884 is not a prime\n",
      "Number : 885 is not a prime\n",
      "Number : 886 is not a prime\n",
      "Number : 887 is a prime\n",
      "Number : 888 is not a prime\n",
      "Number : 889 is not a prime\n",
      "Number : 890 is not a prime\n",
      "Number : 891 is not a prime\n",
      "Number : 892 is not a prime\n",
      "Number : 893 is not a prime\n",
      "Number : 894 is not a prime\n",
      "Number : 895 is not a prime\n",
      "Number : 896 is not a prime\n",
      "Number : 897 is not a prime\n",
      "Number : 898 is not a prime\n",
      "Number : 899 is not a prime\n",
      "Number : 900 is not a prime\n",
      "Number : 901 is not a prime\n",
      "Number : 902 is not a prime\n",
      "Number : 903 is not a prime\n",
      "Number : 904 is not a prime\n",
      "Number : 905 is not a prime\n",
      "Number : 906 is not a prime\n",
      "Number : 907 is a prime\n",
      "Number : 908 is not a prime\n",
      "Number : 909 is not a prime\n",
      "Number : 910 is not a prime\n",
      "Number : 911 is a prime\n",
      "Number : 912 is not a prime\n",
      "Number : 913 is not a prime\n",
      "Number : 914 is not a prime\n",
      "Number : 915 is not a prime\n",
      "Number : 916 is not a prime\n",
      "Number : 917 is not a prime\n",
      "Number : 918 is not a prime\n",
      "Number : 919 is a prime\n",
      "Number : 920 is not a prime\n",
      "Number : 921 is not a prime\n",
      "Number : 922 is not a prime\n",
      "Number : 923 is not a prime\n",
      "Number : 924 is not a prime\n",
      "Number : 925 is not a prime\n",
      "Number : 926 is not a prime\n",
      "Number : 927 is not a prime\n",
      "Number : 928 is not a prime\n",
      "Number : 929 is a prime\n",
      "Number : 930 is not a prime\n",
      "Number : 931 is not a prime\n",
      "Number : 932 is not a prime\n",
      "Number : 933 is not a prime\n",
      "Number : 934 is not a prime\n",
      "Number : 935 is not a prime\n",
      "Number : 936 is not a prime\n",
      "Number : 937 is a prime\n",
      "Number : 938 is not a prime\n",
      "Number : 939 is not a prime\n",
      "Number : 940 is not a prime\n",
      "Number : 941 is a prime\n",
      "Number : 942 is not a prime\n",
      "Number : 943 is not a prime\n",
      "Number : 944 is not a prime\n",
      "Number : 945 is not a prime\n",
      "Number : 946 is not a prime\n",
      "Number : 947 is a prime\n",
      "Number : 948 is not a prime\n",
      "Number : 949 is not a prime\n",
      "Number : 950 is not a prime\n",
      "Number : 951 is not a prime\n",
      "Number : 952 is not a prime\n",
      "Number : 953 is a prime\n",
      "Number : 954 is not a prime\n",
      "Number : 955 is not a prime\n",
      "Number : 956 is not a prime\n",
      "Number : 957 is not a prime\n",
      "Number : 958 is not a prime\n",
      "Number : 959 is not a prime\n",
      "Number : 960 is not a prime\n",
      "Number : 961 is not a prime\n",
      "Number : 962 is not a prime\n",
      "Number : 963 is not a prime\n",
      "Number : 964 is not a prime\n",
      "Number : 965 is not a prime\n",
      "Number : 966 is not a prime\n",
      "Number : 967 is a prime\n",
      "Number : 968 is not a prime\n",
      "Number : 969 is not a prime\n",
      "Number : 970 is not a prime\n",
      "Number : 971 is a prime\n",
      "Number : 972 is not a prime\n",
      "Number : 973 is not a prime\n",
      "Number : 974 is not a prime\n",
      "Number : 975 is not a prime\n",
      "Number : 976 is not a prime\n",
      "Number : 977 is a prime\n",
      "Number : 978 is not a prime\n",
      "Number : 979 is not a prime\n",
      "Number : 980 is not a prime\n",
      "Number : 981 is not a prime\n",
      "Number : 982 is not a prime\n",
      "Number : 983 is a prime\n",
      "Number : 984 is not a prime\n",
      "Number : 985 is not a prime\n",
      "Number : 986 is not a prime\n",
      "Number : 987 is not a prime\n",
      "Number : 988 is not a prime\n",
      "Number : 989 is not a prime\n",
      "Number : 990 is not a prime\n",
      "Number : 991 is a prime\n",
      "Number : 992 is not a prime\n",
      "Number : 993 is not a prime\n",
      "Number : 994 is not a prime\n",
      "Number : 995 is not a prime\n",
      "Number : 996 is not a prime\n",
      "Number : 997 is a prime\n",
      "Number : 998 is not a prime\n",
      "Number : 999 is not a prime\n",
      "0.28324198722839355\n"
     ]
    }
   ],
   "source": [
    "import time\n",
    "\n",
    "start = time.time()\n",
    "\n",
    "for num in range(1,1000):\n",
    "    if is_prime(num):\n",
    "        print(\"Number : {} is a prime\".format(num))\n",
    "    else:\n",
    "        print(\"Number : {} is not a prime\".format(num))\n",
    "    \n",
    "print(time.time()-start)                       # Calculate the time taken\n",
    "\n",
    "    "
   ]
  },
  {
   "cell_type": "markdown",
   "metadata": {},
   "source": [
    "# input"
   ]
  },
  {
   "cell_type": "code",
   "execution_count": 42,
   "metadata": {},
   "outputs": [
    {
     "name": "stdout",
     "output_type": "stream",
     "text": [
      "Enter a number1\n",
      "[1]\n",
      "Enter a number2\n",
      "[1, 2]\n",
      "Enter a number3\n",
      "[1, 2, 3]\n",
      "Enter a numbera\n",
      "You have to enter a digit\n",
      "Enter a number9\n",
      "[1, 2, 3, 9]\n",
      "Enter a number10\n",
      "[1, 2, 3, 9, 10]\n"
     ]
    }
   ],
   "source": [
    "numbers =[]\n",
    "num = 0\n",
    "\n",
    "while num < 10:\n",
    "    inp = input(\"Enter a number\")\n",
    "    if inp.isdigit():\n",
    "        num = int(inp)\n",
    "    else:\n",
    "        print(\"You have to enter a digit\")\n",
    "        continue\n",
    "    \n",
    "    numbers.append(num)\n",
    "    print(numbers)\n",
    "    \n"
   ]
  },
  {
   "cell_type": "code",
   "execution_count": 47,
   "metadata": {},
   "outputs": [
    {
     "name": "stdout",
     "output_type": "stream",
     "text": [
      "Enter a numbera\n",
      "You have to enter a digit\n",
      "Enter a number1\n",
      "[1]\n",
      "Enter a number2\n",
      "[1, 2]\n",
      "Enter a number3\n",
      "[1, 2, 3]\n",
      "Enter a number4\n",
      "[1, 2, 3, 4]\n",
      "Enter a number10\n",
      "[1, 2, 3, 4, 10]\n",
      "Enter a number11\n",
      "[1, 2, 3, 4, 10, 11]\n",
      "Enter a number;\n"
     ]
    }
   ],
   "source": [
    "numbers =[]\n",
    "num = 0\n",
    "\n",
    "while True:\n",
    "    inp = input(\"Enter a number\")\n",
    "    num = None\n",
    "    if inp.isdigit():\n",
    "        num = int(inp)\n",
    "    \n",
    "    elif inp ==\";\":\n",
    "        break\n",
    "    else:\n",
    "        print(\"You have to enter a digit\")\n",
    "        continue\n",
    "    \n",
    "    numbers.append(num)\n",
    "    print(numbers)"
   ]
  },
  {
   "cell_type": "markdown",
   "metadata": {},
   "source": [
    "# count vowels in a sentence"
   ]
  },
  {
   "cell_type": "code",
   "execution_count": 64,
   "metadata": {},
   "outputs": [
    {
     "name": "stdout",
     "output_type": "stream",
     "text": [
      "Enter a sentencei am ribesh\n",
      "['i', 'a', 'i', 'e']\n",
      "4\n"
     ]
    }
   ],
   "source": [
    "list1 = []\n",
    "count = 0\n",
    "\n",
    "sentence = input(\"Enter a sentence\")\n",
    "\n",
    "for char in sentence:\n",
    "    #if sentence.isalpha():\n",
    "        if char == \"a\" or char == \"e\" or char == \"i\" or char ==\"o\" or char ==\"u\":\n",
    "            list1.extend(char)\n",
    "            count+=1    \n",
    "    #else:\n",
    "     #   print(\"Please enter a sentence\")\n",
    "     #   continue\n",
    "\n",
    "    \n",
    "print(list1)\n",
    "print(count)"
   ]
  },
  {
   "cell_type": "code",
   "execution_count": 1,
   "metadata": {},
   "outputs": [
    {
     "name": "stdout",
     "output_type": "stream",
     "text": [
      "Enter a sentencei am ribu\n",
      "['i', 'a', 'i', 'u']\n",
      "4\n"
     ]
    }
   ],
   "source": [
    "list1 = []\n",
    "count = 0\n",
    "\n",
    "sentence = input(\"Enter a sentence\")\n",
    "\n",
    "for char in sentence:\n",
    "    #if sentence.isalpha():\n",
    "        if char in (\"a\",\"e\",\"i\",\"o\",\"u\"):\n",
    "            list1.extend(char)\n",
    "            count+=1    \n",
    "    #else:\n",
    "     #   print(\"Please enter a sentence\")\n",
    "     #   continue\n",
    "\n",
    "    \n",
    "print(list1)\n",
    "print(count)"
   ]
  },
  {
   "cell_type": "code",
   "execution_count": null,
   "metadata": {},
   "outputs": [],
   "source": []
  }
 ],
 "metadata": {
  "kernelspec": {
   "display_name": "Python 3",
   "language": "python",
   "name": "python3"
  },
  "language_info": {
   "codemirror_mode": {
    "name": "ipython",
    "version": 3
   },
   "file_extension": ".py",
   "mimetype": "text/x-python",
   "name": "python",
   "nbconvert_exporter": "python",
   "pygments_lexer": "ipython3",
   "version": "3.7.6"
  }
 },
 "nbformat": 4,
 "nbformat_minor": 4
}
